{
 "cells": [
  {
   "cell_type": "code",
   "execution_count": null,
   "metadata": {},
   "outputs": [],
   "source": [
    "import numpy as np\n",
    "import pandas as pd\n",
    "from sklearn.model_selection import train_test_split\n",
    "from keras.datasets import mnist\n",
    "import tensorflow as tf\n",
    "from keras.backend import map_fn\n",
    "from keras.layers import Input, Dense, Lambda, concatenate, Add\n",
    "from keras.models import Model\n",
    "from keras import backend as K\n",
    "from keras.engine.topology import Layer\n",
    "from keras.backend import exp, log\n",
    "from sklearn.preprocessing import MinMaxScaler"
   ]
  },
  {
   "cell_type": "code",
   "execution_count": null,
   "metadata": {},
   "outputs": [],
   "source": [
    "(x_train, y_train), (x_test, y_test) = mnist.load_data()"
   ]
  },
  {
   "cell_type": "code",
   "execution_count": null,
   "metadata": {},
   "outputs": [],
   "source": [
    "x_train.shape"
   ]
  },
  {
   "cell_type": "code",
   "execution_count": null,
   "metadata": {},
   "outputs": [],
   "source": [
    "noisy_input_data = np.zeros((len(x_train), 784))"
   ]
  },
  {
   "cell_type": "code",
   "execution_count": null,
   "metadata": {},
   "outputs": [],
   "source": [
    "for i in range(len(x_train)):\n",
    "    noise = np.random.normal(loc=0.0, scale=(1.0/256.0), size=(28,28))\n",
    "    noisy_data = x_train[i] + noise\n",
    "    noisy_data = noisy_data.reshape((784,))\n",
    "    noisy_input_data[i] = noisy_data"
   ]
  },
  {
   "cell_type": "code",
   "execution_count": null,
   "metadata": {},
   "outputs": [],
   "source": [
    "noisy_input_data.shape"
   ]
  },
  {
   "cell_type": "code",
   "execution_count": null,
   "metadata": {},
   "outputs": [],
   "source": [
    "maxmin = MinMaxScaler()\n",
    "noisy_input_data = maxmin.fit_transform(noisy_input_data)\n",
    "noisy_input_data = (noisy_input_data > 0.5).astype(np.float32)"
   ]
  },
  {
   "cell_type": "code",
   "execution_count": null,
   "metadata": {},
   "outputs": [],
   "source": [
    "def create_network(input_shape=392):\n",
    "    a = Input(shape=(input_shape,))\n",
    "    b = Dense(1000, activation='relu')(a)\n",
    "    c = Dense(1000, activation='relu')(b)\n",
    "    d = Dense(1000, activation='relu')(c)\n",
    "    e = Dense(1000, activation='relu')(d)\n",
    "    f = Dense(1000, activation='relu')(e)\n",
    "    g = Dense(392)(f)\n",
    "    model = Model(inputs=a, outputs=g)\n",
    "    return model\n",
    "    "
   ]
  },
  {
   "cell_type": "code",
   "execution_count": null,
   "metadata": {},
   "outputs": [],
   "source": [
    "class ScalingLayer(Layer):\n",
    "\n",
    "    def __init__(self, output_dim, **kwargs):\n",
    "        self.output_dim = output_dim\n",
    "        super(ScalingLayer, self).__init__(**kwargs)\n",
    "\n",
    "    def build(self, input_shape):\n",
    "        # Create a trainable weight variable for this layer.\n",
    "        self.kernel = self.add_weight(name='kernel', \n",
    "                                      shape=(input_shape[1],),\n",
    "                                      initializer='uniform',\n",
    "                                      trainable=True)\n",
    "        super(ScalingLayer, self).build(input_shape)  # Be sure to call this at the end\n",
    "\n",
    "    def call(self, x):\n",
    "        ss = tf.expand_dims(self.kernel, 0)\n",
    "        dd = tf.multiply(x, exp(self.kernel))\n",
    "        #print(dd.shape)\n",
    "        return dd\n",
    "\n",
    "    def compute_output_shape(self, input_shape):\n",
    "        return input_shape"
   ]
  },
  {
   "cell_type": "code",
   "execution_count": null,
   "metadata": {},
   "outputs": [],
   "source": [
    "x_odd = Input(batch_shape=(None,392))\n",
    "x_even = Input(batch_shape=(None,392))\n",
    "\n",
    "nn_1 = create_network()\n",
    "h1_odd = x_odd\n",
    "a1 = nn_1(x_odd)\n",
    "h1_even = Add()([a1, x_even])\n",
    "\n",
    "nn_2 = create_network()\n",
    "a2 = nn_2(x_even)\n",
    "h2_odd = Add()([h1_odd, a2])\n",
    "h2_even = h1_even\n",
    "\n",
    "nn_3 = create_network()\n",
    "h3_odd = h2_odd\n",
    "a3 = nn_3(h1_odd)\n",
    "h3_even = Add()([h2_odd, a3])\n",
    "\n",
    "nn_4 = create_network()\n",
    "a4 = nn_4(x_even)\n",
    "h4_odd = Add()([h3_odd, a4])\n",
    "h4_even = h3_even\n",
    "\n",
    "h = concatenate([h4_even, h4_odd])\n",
    "\n",
    "scaling_layer = ScalingLayer(output_dim=h.shape)\n",
    "final_h = scaling_layer(h)\n",
    "\n",
    "final_model = Model(inputs=(x_odd, x_even), outputs=final_h)"
   ]
  },
  {
   "cell_type": "code",
   "execution_count": null,
   "metadata": {},
   "outputs": [],
   "source": [
    "final_model.summary()"
   ]
  },
  {
   "cell_type": "code",
   "execution_count": null,
   "metadata": {},
   "outputs": [],
   "source": [
    "def logistic_distribution(hd):\n",
    "    logprob = log(1.0+exp(hd)) + log(1.0+exp(-1*hd))\n",
    "    logprob = -1.0 * logprob\n",
    "    return logprob"
   ]
  },
  {
   "cell_type": "code",
   "execution_count": null,
   "metadata": {},
   "outputs": [],
   "source": [
    "def log_loss(ss):\n",
    "  def main_loss(y_true, y_pred):\n",
    "    total_ss = K.sum(ss)\n",
    "    total_hh = K.sum(map_fn(logistic_distribution, y_pred))\n",
    "    return total_ss + total_hh\n",
    "  return main_loss\n"
   ]
  },
  {
   "cell_type": "code",
   "execution_count": null,
   "metadata": {},
   "outputs": [],
   "source": [
    "from keras.optimizers import Adam, RMSprop\n",
    "opt=Adam(lr=0.001)"
   ]
  },
  {
   "cell_type": "code",
   "execution_count": null,
   "metadata": {},
   "outputs": [],
   "source": [
    "final_model.compile(optimizer=opt,loss=log_loss(final_model.layers[-1].trainable_weights))"
   ]
  },
  {
   "cell_type": "code",
   "execution_count": null,
   "metadata": {},
   "outputs": [],
   "source": [
    "x_even = noisy_input_data[:, 1::2] #even\n",
    "x_odd = noisy_input_data[:, 0::2] #odd"
   ]
  },
  {
   "cell_type": "code",
   "execution_count": null,
   "metadata": {},
   "outputs": [],
   "source": [
    "final_model.fit(x=[x_even, x_odd], y=x_even, steps_per_epoch=1000)"
   ]
  },
  {
   "cell_type": "code",
   "execution_count": null,
   "metadata": {},
   "outputs": [],
   "source": []
  }
 ],
 "metadata": {
  "kernelspec": {
   "display_name": "Python 3",
   "language": "python",
   "name": "python3"
  },
  "language_info": {
   "codemirror_mode": {
    "name": "ipython",
    "version": 3
   },
   "file_extension": ".py",
   "mimetype": "text/x-python",
   "name": "python",
   "nbconvert_exporter": "python",
   "pygments_lexer": "ipython3",
   "version": "3.6.7"
  }
 },
 "nbformat": 4,
 "nbformat_minor": 2
}
