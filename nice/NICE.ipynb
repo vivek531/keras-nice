{
 "cells": [
  {
   "cell_type": "code",
   "execution_count": 1,
   "metadata": {},
   "outputs": [],
   "source": [
    "import numpy as np\n",
    "import pandas as pd"
   ]
  },
  {
   "cell_type": "code",
   "execution_count": 2,
   "metadata": {},
   "outputs": [
    {
     "name": "stderr",
     "output_type": "stream",
     "text": [
      "/Users/v0k002y/Documents/ae_generic_models/attribute-extraction-models/venv3.6.7/lib/python3.6/site-packages/h5py-2.7.1-py3.6-macosx-10.9-x86_64.egg/h5py/__init__.py:36: FutureWarning: Conversion of the second argument of issubdtype from `float` to `np.floating` is deprecated. In future, it will be treated as `np.float64 == np.dtype(float).type`.\n",
      "  from ._conv import register_converters as _register_converters\n",
      "Using TensorFlow backend.\n"
     ]
    }
   ],
   "source": [
    "from keras.datasets import mnist\n",
    "import tensorflow as tf"
   ]
  },
  {
   "cell_type": "code",
   "execution_count": 3,
   "metadata": {},
   "outputs": [],
   "source": [
    "(x_train, y_train), (x_test, y_test) = mnist.load_data()"
   ]
  },
  {
   "cell_type": "code",
   "execution_count": 4,
   "metadata": {},
   "outputs": [
    {
     "data": {
      "text/plain": [
       "(60000, 28, 28)"
      ]
     },
     "execution_count": 4,
     "metadata": {},
     "output_type": "execute_result"
    }
   ],
   "source": [
    "x_train.shape"
   ]
  },
  {
   "cell_type": "code",
   "execution_count": 5,
   "metadata": {},
   "outputs": [],
   "source": [
    "noisy_input_data = np.zeros((len(x_train), 784))"
   ]
  },
  {
   "cell_type": "code",
   "execution_count": 6,
   "metadata": {},
   "outputs": [],
   "source": [
    "for i in range(len(x_train)):\n",
    "    noise = np.random.normal(loc=0.0, scale=(1.0/256.0), size=(28,28))\n",
    "    noisy_data = x_train[i] + noise\n",
    "    noisy_data = noisy_data.reshape((784,))\n",
    "    noisy_input_data[i] = noisy_data"
   ]
  },
  {
   "cell_type": "code",
   "execution_count": 7,
   "metadata": {},
   "outputs": [
    {
     "data": {
      "text/plain": [
       "(60000, 784)"
      ]
     },
     "execution_count": 7,
     "metadata": {},
     "output_type": "execute_result"
    }
   ],
   "source": [
    "noisy_input_data.shape"
   ]
  },
  {
   "cell_type": "code",
   "execution_count": 24,
   "metadata": {},
   "outputs": [],
   "source": [
    "from keras.layers import Input, Dense, Lambda, concatenate, Add\n",
    "from keras.models import Model\n",
    "from keras import backend as K"
   ]
  },
  {
   "cell_type": "code",
   "execution_count": 9,
   "metadata": {},
   "outputs": [],
   "source": [
    "def create_network(input_shape=392):\n",
    "    a = Input(shape=(input_shape,))\n",
    "    b = Dense(1000, activation='relu')(a)\n",
    "    c = Dense(1000, activation='relu')(b)\n",
    "    d = Dense(1000, activation='relu')(c)\n",
    "    e = Dense(1000, activation='relu')(d)\n",
    "    f = Dense(1000, activation='relu')(e)\n",
    "    g = Dense(392)(f)\n",
    "    model = Model(inputs=a, outputs=g)\n",
    "    return model\n",
    "    "
   ]
  },
  {
   "cell_type": "code",
   "execution_count": 46,
   "metadata": {},
   "outputs": [
    {
     "name": "stdout",
     "output_type": "stream",
     "text": [
      "<class 'keras.engine.training.Model'>\n"
     ]
    }
   ],
   "source": [
    "x_odd = Input(batch_shape=(None,392))\n",
    "x_even = Input(batch_shape=(None,392))\n",
    "\n",
    "nn_1 = create_network()\n",
    "print(type(nn_1))\n",
    "h1_odd = x_odd\n",
    "a1 = nn_1(x_odd)\n",
    "h1_even = Add()([a1, x_even])\n",
    "\n",
    "nn_2 = create_network()\n",
    "a2 = nn_2(x_even)\n",
    "h2_odd = Add()([h1_odd, a2])\n",
    "h2_even = h1_even\n",
    "\n",
    "nn_3 = create_network()\n",
    "h3_odd = h2_odd\n",
    "a3 = nn_3(h1_odd)\n",
    "h3_even = Add()([h2_odd, a3])\n",
    "\n",
    "nn_4 = create_network()\n",
    "a4 = nn_4(x_even)\n",
    "h4_odd = Add()([h3_odd, a4])\n",
    "h4_even = h3_even\n",
    "\n",
    "h = concatenate([h4_even, h4_odd])\n",
    "\n",
    "m = dd()\n",
    "final_h = m([h])\n",
    "final_model = Model(inputs=(x_odd, x_even), outputs=final_h)"
   ]
  },
  {
   "cell_type": "code",
   "execution_count": 45,
   "metadata": {},
   "outputs": [],
   "source": [
    "def dd():\n",
    "    \"\"\"\n",
    "    This is the function used for cross channel normalization in the original\n",
    "    Alexnet\n",
    "    \"\"\"\n",
    "    def f(X):\n",
    "        val = np.random.normal(loc=0.0, scale=0.01, size=(784,))\n",
    "        Y = K.variable(value=val, dtype='float32', name='rescaling')\n",
    "\n",
    "        return tf.multiply(X, tf.expand_dims(Y, 0))\n",
    "\n",
    "    return Lambda(f, output_shape=(784,)) "
   ]
  },
  {
   "cell_type": "code",
   "execution_count": 47,
   "metadata": {},
   "outputs": [
    {
     "name": "stdout",
     "output_type": "stream",
     "text": [
      "__________________________________________________________________________________________________\n",
      "Layer (type)                    Output Shape         Param #     Connected to                     \n",
      "==================================================================================================\n",
      "input_177 (InputLayer)          (None, 392)          0                                            \n",
      "__________________________________________________________________________________________________\n",
      "input_176 (InputLayer)          (None, 392)          0                                            \n",
      "__________________________________________________________________________________________________\n",
      "model_130 (Model)               (None, 392)          4789392     input_177[0][0]                  \n",
      "__________________________________________________________________________________________________\n",
      "add_55 (Add)                    (None, 392)          0           input_176[0][0]                  \n",
      "                                                                 model_130[1][0]                  \n",
      "__________________________________________________________________________________________________\n",
      "model_131 (Model)               (None, 392)          4789392     input_176[0][0]                  \n",
      "__________________________________________________________________________________________________\n",
      "model_132 (Model)               (None, 392)          4789392     input_177[0][0]                  \n",
      "__________________________________________________________________________________________________\n",
      "add_56 (Add)                    (None, 392)          0           add_55[0][0]                     \n",
      "                                                                 model_131[1][0]                  \n",
      "__________________________________________________________________________________________________\n",
      "add_57 (Add)                    (None, 392)          0           add_55[0][0]                     \n",
      "                                                                 model_132[1][0]                  \n",
      "__________________________________________________________________________________________________\n",
      "concatenate_16 (Concatenate)    (None, 784)          0           add_56[0][0]                     \n",
      "                                                                 add_57[0][0]                     \n",
      "__________________________________________________________________________________________________\n",
      "lambda_19 (Lambda)              (None, 784)          0           concatenate_16[0][0]             \n",
      "==================================================================================================\n",
      "Total params: 14,368,176\n",
      "Trainable params: 14,368,176\n",
      "Non-trainable params: 0\n",
      "__________________________________________________________________________________________________\n"
     ]
    }
   ],
   "source": [
    "final_model.summary()"
   ]
  },
  {
   "cell_type": "code",
   "execution_count": null,
   "metadata": {},
   "outputs": [],
   "source": []
  }
 ],
 "metadata": {
  "kernelspec": {
   "display_name": "Python 3",
   "language": "python",
   "name": "python3"
  },
  "language_info": {
   "codemirror_mode": {
    "name": "ipython",
    "version": 3
   },
   "file_extension": ".py",
   "mimetype": "text/x-python",
   "name": "python",
   "nbconvert_exporter": "python",
   "pygments_lexer": "ipython3",
   "version": "3.6.7"
  }
 },
 "nbformat": 4,
 "nbformat_minor": 2
}
